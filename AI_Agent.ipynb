from langchain.llms import HuggingFacePipeline
from langchain.prompts import PromptTemplate
from langchain.chains import LLMChain
from transformers import AutoTokenizer, AutoModelForSequenceClassification, pipeline
import torch
import pandas as pd
import numpy as np
import re

# Load the model and tokenizer
model_name = 'akhooli/xlm-r-large-arabic-sent'
tokenizer = AutoTokenizer.from_pretrained(model_name)
model = AutoModelForSequenceClassification.from_pretrained(model_name)

# Create a Hugging Face pipeline for sentiment analysis
sentiment_pipeline = pipeline(
    "text-classification",
    model=model,
    tokenizer=tokenizer,
    device=0 if torch.cuda.is_available() else -1,  # Use GPU if available
    return_all_scores=True
)

# Create a LangChain LLM wrapper
llm = HuggingFacePipeline(pipeline=sentiment_pipeline)

# Define the sentiment decoding function
def decode_sentiment(sentiment_scores):
    scores = sentiment_scores[0]
    positive_score = next((score['score'] for score in scores if score['label'] == 'positive'), 0)
    negative_score = next((score['score'] for score in scores if score['label'] == 'negative'), 0)
    neutral_score = next((score['score'] for score in scores if score['label'] == 'neutral'), 0)

    if positive_score > negative_score and positive_score > neutral_score:
        return 'positive'
    elif negative_score > positive_score and negative_score > neutral_score:
        return 'negative'
    else:
        return 'neutral'

# Define the rule-based labeling function
def apply_labeling_rules(data):
    Positive_Strings = ['Fantastic product', 'Thx', 'Love the product', 'Love', 'love', 'LOVE', 'applause', 'exceptional', 'Alhumdulillah', 'Allhamdulliah', 'Alhamdulillah', 'Masha Allah', 'mashallah', 'Mashallah', 'MaShaAllah', 'Allah', 'Thank', 'thank', 'Thanks', 'Thank you', 'thank you',
                        'Behtareen', 'Hats off', 'Behtereen', 'behtareen', 'awesome', 'Awesome', 'VIP', 'vip', 'Vip', 'Best', 'best', 'good product', 'Good packing', 'nyc', 'nice', 'Nice', 'Allaw', 'allaw', '',
                        'orginal product', 'thnx', 'Acha product', 'Best', 'ZabbarDast', 'Zabrdast', 'zabrdast', 'Zbrdast', 'Satisfactory', 'satisfactory', 'Bht zada acha', 'achi quality', 'Satisfied with Product',
                        'satisfying', 'Not bad', 'shukiya', 'acchi hai', 'Outstanding', 'keep it up', 'Aala product', 'geniue', 'safe', 'Wonderful', 'Great service', 'thank', 'Great quality', 'Good quality', 'good quality',
                        'Bhut he Aala', 'happy', 'Happy', '#Trusted', '#trusted', 'Trusted', 'perfect', 'Perfect', 'Excellent', 'appreciated', 'Highly recommend', 'Amazing', 'glad', 'Outstanding', 'Bhot khoob', 'Good service', 'Totally satisfied',
                        'Nice product', 'decent', 'value for money', 'value of money', 'Original Product', 'behtreeen', '5 stars', 'Original product', 'Bohat ache', 'Unbeatable prices', '10/10', 'decent', 'great product', 'Impressive', 'Very good service', 'good service', '100% satisfied',
                        'Zbardast', 'Zabardast', 'Good e-commerce web site', 'Good web site', 'good web site', 'Good experience', 'good experience', 'Genuine', 'pretty good', 'high quality', 'Product original', 'Product is original', 'Shandar product', 'better quality', 'Good overall', 'Genuine product', '100% original', 'Fantastic', 'fantastic']

    Negative_Strings = ['Not much satisfied', 'not too good', 'kam h', 'kharb', 'nahi', 'Bad', 'Bakwassssssss', 'bad', 'Ghatya', 'ghatya', 'Fruad', 'fraud', 'bakwas', 'Bakwas', 'poor', 'Poor', 'missing', 'cheap', 'Cheap', 'not satisfied', 'not recommended', '3rd class',
                        'Not recommended', 'not good', 'local quality', 'waste of money', 'scratches', 'scratch', 'pathetic', 'ghatiya', 'Broken', 'damaged', 'repacked', 'Repacked', 'Defective', 'defective',
                        'Low quality', 'Baqwas', 'poor', 'faulty product', 'issue', 'Not satisfied.', "didn't work", 'kharab', 'Kharab', 'Pathetic', 'too late', 'late', 'Late', 'poor', 'unsatisfactory']

    conditions_accepted_1 = (data['description'].astype(str).str.contains('|'.join(Positive_Strings)) & (data['rating'].astype(str).str.contains('3|4|5')))
    conditions_accepted_2 = ((data['rating'].astype(str).str.contains('4|5')) & (data['description'].isna()))
    conditions_accepted_3 = (
        ((data['rating'].astype(str).str.contains('4|5')) &
         (data['description'].astype(str).str.contains('|'.join(Positive_Strings), case=False)) &
         (data['LLM'].str.contains('positive|Positive', case=False))) |

        ((data['LLM'].str.contains('Positive|positive', case=False)) &
         (data['rating'].astype(str).str.contains('3')) &
         (data['description'].astype(str).str.contains('|'.join(Positive_Strings), case=False))) |

        ((data['description'].astype(str).str.contains('|'.join(Positive_Strings), case=False)) &
         (data['LLM'].str.contains('neutral|Neutral', case=False)) &
         (data['rating'].astype(str).str.contains('4|5'))) |

        ((data['LLM'].str.contains('Neutral|neutral', case=False)) &
         (data['rating'].astype(str).str.contains('3')) &
         (data['description'].astype(str).str.contains('|'.join(Positive_Strings), case=False))) |

        ((data['LLM'].str.contains('negative|Negative', case=False)) &
         (data['rating'].astype(str).str.contains('4|5')) &
         (data['description'].astype(str).str.contains('|'.join(Positive_Strings), case=False))) |

        ((data['LLM'].str.contains('negative|Negative', case=False)) &
         (data['rating'].astype(str).str.contains('3')) &
         (data['description'].astype(str).str.contains('|'.join(Positive_Strings), case=False)))

    )

    conditions_rejected_1 = (data['rating'].astype(str).str.contains('1|2'))
    conditions_rejected_2 = (data['description'].astype(str).str.contains('|'.join(Negative_Strings)) & (data['rating'].astype(str).str.contains('1|2|3|4|5')))
    conditions_rejected_3 = (
        (data['LLM'].str.contains('Positive|positive', case=False) &
         (data['rating'].astype(str).str.contains('3|4|5')) &
         (data['description'].astype(str).str.contains('|'.join(Negative_Strings), case=False))) |

        (data['LLM'].str.contains('neutral|Neutral', case=False) &
         (data['rating'].astype(str).str.contains('3|4|5')) &
         (data['description'].astype(str).str.contains('|'.join(Negative_Strings), case=False))) |

        (data['LLM'].str.contains('negative|Negative', case=False) &
         (data['rating'].astype(str).str.contains('3|4|5')) &
         (data['description'].astype(str).str.contains('|'.join(Negative_Strings), case=False)))

    )
    data['Labeled Result'] = np.select(
        [(conditions_accepted_1 | conditions_accepted_2 | conditions_accepted_3), (conditions_rejected_1 | conditions_rejected_2 | conditions_rejected_3)],
        ['accepted', 'rejected'],
        default='rejected'
    )
    return data

# Main function
def process_data(description, rating):

    data = pd.DataFrame({
        'description': [description],
        'rating': [rating
