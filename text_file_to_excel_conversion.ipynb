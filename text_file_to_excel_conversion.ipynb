{
  "nbformat": 4,
  "nbformat_minor": 0,
  "metadata": {
    "colab": {
      "provenance": []
    },
    "kernelspec": {
      "name": "python3",
      "display_name": "Python 3"
    },
    "language_info": {
      "name": "python"
    }
  },
  "cells": [
    {
      "cell_type": "code",
      "execution_count": null,
      "metadata": {
        "id": "DFi2TeC42amf"
      },
      "outputs": [],
      "source": [
        "import pandas as pd\n",
        "\n",
        "# Read the text file\n",
        "with open('/content/New Text Document.txt', 'r', encoding='utf-8') as file:\n",
        "    lines = file.readlines()\n",
        "\n",
        "# Create a DataFrame with one column named 'Text'\n",
        "df = pd.DataFrame({'Text': lines})\n",
        "\n",
        "# Save the DataFrame to an Excel file\n",
        "df.to_excel('output.xlsx', index=False)\n"
      ]
    },
    {
      "cell_type": "code",
      "source": [],
      "metadata": {
        "id": "LtwlZV712jIF"
      },
      "execution_count": null,
      "outputs": []
    }
  ]
}